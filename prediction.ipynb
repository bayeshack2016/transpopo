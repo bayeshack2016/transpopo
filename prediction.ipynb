{
 "cells": [
  {
   "cell_type": "code",
   "execution_count": 60,
   "metadata": {
    "collapsed": false
   },
   "outputs": [],
   "source": [
    "%matplotlib inline\n",
    "\n",
    "import pandas as pd\n",
    "import matplotlib\n",
    "import numpy as np\n",
    "import random\n",
    "from sklearn import tree\n",
    "from IPython.display import Image\n",
    "from sklearn.externals.six import StringIO\n",
    "import pydot\n",
    "from sklearn.ensemble import RandomForestClassifier\n",
    "from sklearn.ensemble import ExtraTreesClassifier\n",
    "import matplotlib.pyplot as plt\n",
    "import warnings\n",
    "\n",
    "warnings.simplefilter('ignore')"
   ]
  },
  {
   "cell_type": "code",
   "execution_count": 34,
   "metadata": {
    "collapsed": false
   },
   "outputs": [
    {
     "data": {
      "text/plain": [
       "(996179, 47)"
      ]
     },
     "execution_count": 34,
     "metadata": {},
     "output_type": "execute_result"
    }
   ],
   "source": [
    "data=pd.read_csv('pcr_2014.csv')\n",
    "data.shape"
   ]
  },
  {
   "cell_type": "code",
   "execution_count": 47,
   "metadata": {
    "collapsed": false
   },
   "outputs": [
    {
     "data": {
      "text/plain": [
       "Not Available                                166959\n",
       "Not Applicable                               162077\n",
       "959.90- Traumatic injury                     118512\n",
       "312.90- Behavioral / psychiatric disorder     75838\n",
       "786.09- Respiratory distress                  65233\n",
       "789.00- Abdominal pain / problems             59668\n",
       "786.50- Chest pain / discomfort               44923\n",
       "780.20- Syncope / fainting                    34057\n",
       "780.09- Altered level of consciousness        33312\n",
       "977.90- Poisoning / drug ingestion            30117\n",
       "Not Reporting                                 29611\n",
       "780.30- Seizure                               27639\n",
       "Not Known                                     17889\n",
       "250.90- Diabetic symptoms (hypoglycemia)      16799\n",
       "436.00- Stroke / CVA                          13432\n",
       "Not Recorded                                  10216\n",
       "427.90- Cardiac rhythm disturbance            10076\n",
       "427.50- Cardiac arrest                         7523\n",
       "659.90- Pregnancy / OB delivery                5214\n",
       "995.30- Allergic reaction                      4924\n",
       "798.99- Obvious death                          4588\n",
       "785.59- Hypovolemia / shock                    2661\n",
       "780.60- Hyperthermia                           2655\n",
       "519.80- Airway obstruction                     1966\n",
       "623.80- Vaginal hemorrhage                     1727\n",
       "799.10- Respiratory arrest                      720\n",
       "959.90- Sexual assault / rape                   514\n",
       "780.90- Hypothermia                             503\n",
       "987.90- Inhalation injury (toxic gas)           319\n",
       "989.50- Stings / venomous bites                 188\n",
       "994.80- Electrocution                           131\n",
       "987.90- Smoke inhalation                        128\n",
       "Name: PROVIDERSPRIMARYIMPRESSION, dtype: int64"
      ]
     },
     "execution_count": 47,
     "metadata": {},
     "output_type": "execute_result"
    }
   ],
   "source": [
    "data[\"PROVIDERSPRIMARYIMPRESSION\"].value_counts()"
   ]
  },
  {
   "cell_type": "code",
   "execution_count": 39,
   "metadata": {
    "collapsed": false
   },
   "outputs": [
    {
     "data": {
      "text/plain": [
       "(609427, 47)"
      ]
     },
     "execution_count": 39,
     "metadata": {},
     "output_type": "execute_result"
    }
   ],
   "source": [
    "# Filter out labels that aren't the following five\n",
    "#blah=data[data['INCIDENTPATIENTDISPOSITION'].isin(['Treated, Transported by EMS', 'Patient Refused Care','Treated and Released','No Treatment Required','Dead at Scene'])]\n",
    "# Reset indices\n",
    "#blah.reset_index()\n",
    "#blah.shape\n",
    "\n",
    "blah=data[~data['PROVIDERSPRIMARYIMPRESSION'].isin(['Not Available','Not Applicable','Not Reporting', 'Not Known','Not Recorded'])]\n",
    "blah.reset_index()\n",
    "blah.shape"
   ]
  },
  {
   "cell_type": "code",
   "execution_count": 61,
   "metadata": {
    "collapsed": false
   },
   "outputs": [],
   "source": [
    "# Replace \"not available\" values with NaN\n",
    "blah[blah.isin(['Not Applicable'])]=np.NaN\n",
    "blah[blah.isin(['Not Known'])]=np.NaN\n",
    "blah[blah.isin(['Not Available'])]=np.NaN\n",
    "blah[blah.isin(['Not Recorded'])]=np.NaN\n",
    "blah[blah.isin(['Not Reporting'])]=np.NaN\n",
    "blah[blah.isin(['Unk'])]=np.NaN\n",
    "\n",
    "# Replace missing data with mode for each column\n",
    "blah['PRIMARYSYMPTOM']=blah['PRIMARYSYMPTOM'].fillna(blah['PRIMARYSYMPTOM'].mode()[0])\n",
    "blah['CAUSEOFINJURY']=blah['CAUSEOFINJURY'].fillna(blah['CAUSEOFINJURY'].mode()[0])\n",
    "blah['INCIDENTLOCATIONTYPE']=blah['INCIDENTLOCATIONTYPE'].fillna(blah['INCIDENTLOCATIONTYPE'].mode()[0])\n",
    "blah['COMPLAINTANATOMICLOCATION']=blah['COMPLAINTANATOMICLOCATION'].fillna(blah['COMPLAINTANATOMICLOCATION'].mode()[0])\n",
    "blah['IS_INJURY']=blah['IS_INJURY'].fillna(blah['IS_INJURY'].mode()[0])\n",
    "blah['CARDIACARREST']=blah['CARDIACARREST'].fillna(blah['CARDIACARREST'].mode()[0])\n",
    "blah['COMPLAINTREPORTEDBYDISPATCH']=blah['COMPLAINTREPORTEDBYDISPATCH'].fillna(blah['COMPLAINTREPORTEDBYDISPATCH'].mode()[0])\n",
    "blah['SCENE_COUNTY']=blah['SCENE_COUNTY'].fillna(blah['SCENE_COUNTY'].mode()[0])"
   ]
  },
  {
   "cell_type": "code",
   "execution_count": 62,
   "metadata": {
    "collapsed": false
   },
   "outputs": [],
   "source": [
    "# Categorical hash\n",
    "injury_labels = list(blah[\"CAUSEOFINJURY\"].unique())\n",
    "symptom_labels = list(blah[\"PRIMARYSYMPTOM\"].unique())\n",
    "location_labels = list(blah[\"INCIDENTLOCATIONTYPE\"].unique())\n",
    "anatomy_labels = list(blah[\"COMPLAINTANATOMICLOCATION\"].unique())\n",
    "is_labels = list(blah[\"IS_INJURY\"].unique())\n",
    "cardiac_labels = list(blah[\"CARDIACARREST\"].unique())\n",
    "complaint_labels = list(blah[\"COMPLAINTREPORTEDBYDISPATCH\"].unique())\n",
    "county_labels = list(blah[\"SCENE_COUNTY\"].unique())\n",
    "\n",
    "disposition_labels = list(blah[\"INCIDENTPATIENTDISPOSITION\"].unique())\n",
    "prov_primary_impress_labels = list(blah[\"PROVIDERSPRIMARYIMPRESSION\"].unique())\n",
    "prov_secondary_impress_labels = list(blah[\"PROVIDERSSECONDARYIMPRESSION\"].unique())\n",
    "\n",
    "blah[\"CAUSEOFINJURY_CAT\"] = blah[\"CAUSEOFINJURY\"].apply(lambda x: injury_labels.index(x))\n",
    "blah[\"PRIMARYSYMPTOM_CAT\"] = blah[\"PRIMARYSYMPTOM\"].apply(lambda x: symptom_labels.index(x))\n",
    "blah[\"INCIDENTLOCATIONTYPE_CAT\"] = blah[\"INCIDENTLOCATIONTYPE\"].apply(lambda x: location_labels.index(x))\n",
    "blah[\"COMPLAINTANATOMICLOCATION_CAT\"] = blah[\"COMPLAINTANATOMICLOCATION\"].apply(lambda x: anatomy_labels.index(x))\n",
    "blah[\"IS_INJURY_CAT\"] = blah[\"IS_INJURY\"].apply(lambda x: is_labels.index(x))\n",
    "blah[\"CARDIACARREST_CAT\"] = blah[\"CARDIACARREST\"].apply(lambda x: cardiac_labels.index(x))\n",
    "blah[\"COMPLAINTREPORTEDBYDISPATCH_CAT\"] = blah[\"COMPLAINTREPORTEDBYDISPATCH\"].apply(lambda x: complaint_labels.index(x))\n",
    "blah[\"SCENE_COUNTY_CAT\"] = blah[\"SCENE_COUNTY\"].apply(lambda x: county_labels.index(x))\n",
    "\n",
    "blah[\"PROVIDERSPRIMARYIMPRESSION_CAT\"] = blah[\"PROVIDERSPRIMARYIMPRESSION\"].apply(lambda x: prov_primary_impress_labels.index(x))\n",
    "blah[\"PROVIDERSSECONDARYIMPRESSION_CAT\"] = blah[\"PROVIDERSSECONDARYIMPRESSION\"].apply(lambda x: prov_secondary_impress_labels.index(x))\n",
    "blah[\"INCIDENTPATIENTDISPOSITION_CAT\"] = blah[\"INCIDENTPATIENTDISPOSITION\"].apply(lambda x: disposition_labels.index(x))"
   ]
  },
  {
   "cell_type": "code",
   "execution_count": 42,
   "metadata": {
    "collapsed": false
   },
   "outputs": [
    {
     "data": {
      "text/plain": [
       "(609427, 58)"
      ]
     },
     "execution_count": 42,
     "metadata": {},
     "output_type": "execute_result"
    }
   ],
   "source": [
    "# Randomize order of rows\n",
    "index = list(blah.index)\n",
    "random.shuffle(index)\n",
    "blah = blah.ix[index]\n",
    "blah.reset_index()\n",
    "blah.shape"
   ]
  },
  {
   "cell_type": "code",
   "execution_count": 43,
   "metadata": {
    "collapsed": false
   },
   "outputs": [],
   "source": [
    "# Dividing test and training\n",
    "k=0.9\n",
    "splitk=int(round(blah.shape[0]*k))\n",
    "\n",
    "# Use only Primarysymptom and Causeofinjury features\n",
    "onehot1 = {k:v for k,v in zip(injury_labels, pd.get_dummies(injury_labels).as_matrix())}\n",
    "onehot2 = {k:v for k,v in zip(symptom_labels, pd.get_dummies(symptom_labels).as_matrix())}\n",
    "onehot3 = {k:v for k,v in zip(location_labels, pd.get_dummies(location_labels).as_matrix())}\n",
    "onehot4 = {k:v for k,v in zip(anatomy_labels, pd.get_dummies(anatomy_labels).as_matrix())}\n",
    "onehot5 = {k:v for k,v in zip(is_labels, pd.get_dummies(is_labels).as_matrix())}\n",
    "onehot6 = {k:v for k,v in zip(cardiac_labels, pd.get_dummies(cardiac_labels).as_matrix())}\n",
    "onehot7 = {k:v for k,v in zip(complaint_labels, pd.get_dummies(complaint_labels).as_matrix())}\n",
    "onehot8 = {k:v for k,v in zip(county_labels, pd.get_dummies(county_labels).as_matrix())}\n",
    "temp1=blah['CAUSEOFINJURY'].as_matrix()\n",
    "temp2=blah['PRIMARYSYMPTOM'].as_matrix()\n",
    "temp3=blah['INCIDENTLOCATIONTYPE'].as_matrix()\n",
    "temp4=blah['COMPLAINTANATOMICLOCATION'].as_matrix()\n",
    "temp5=blah['IS_INJURY'].as_matrix()\n",
    "temp6=blah['CARDIACARREST'].as_matrix()\n",
    "temp7=blah['COMPLAINTREPORTEDBYDISPATCH'].as_matrix()\n",
    "temp8=blah['SCENE_COUNTY'].as_matrix()\n",
    "temp1 = np.array([onehot1[x] for x in temp1])\n",
    "temp2 = np.array([onehot2[x] for x in temp2])\n",
    "temp3 = np.array([onehot3[x] for x in temp3])\n",
    "temp4 = np.array([onehot4[x] for x in temp4])\n",
    "temp5 = np.array([onehot5[x] for x in temp5])\n",
    "temp6 = np.array([onehot6[x] for x in temp6])\n",
    "temp7 = np.array([onehot7[x] for x in temp7])\n",
    "temp8 = np.array([onehot8[x] for x in temp8])\n",
    "temp = np.concatenate((temp1, temp2, temp3, temp4, temp5, temp6, temp7, temp8), axis=1)\n",
    "train=temp[0:splitk]\n",
    "test=temp[splitk:]\n",
    "temp=blah[['PROVIDERSPRIMARYIMPRESSION_CAT']]\n",
    "trainlabels=temp[0:splitk]\n",
    "testlabels=temp[splitk:]"
   ]
  },
  {
   "cell_type": "code",
   "execution_count": 44,
   "metadata": {
    "collapsed": false
   },
   "outputs": [
    {
     "data": {
      "text/plain": [
       "0.70708695010091394"
      ]
     },
     "execution_count": 44,
     "metadata": {},
     "output_type": "execute_result"
    }
   ],
   "source": [
    "# Decision Tree (total accuracy printed)\n",
    "clf = tree.DecisionTreeClassifier(max_depth=80)\n",
    "clf = clf.fit(train, trainlabels)\n",
    "pre=clf.predict(test)\n",
    "yep=testlabels.as_matrix()\n",
    "acc=sum(pre==yep.flatten())/float(pre.shape[0])\n",
    "acc"
   ]
  },
  {
   "cell_type": "code",
   "execution_count": 45,
   "metadata": {
    "collapsed": false
   },
   "outputs": [
    {
     "data": {
      "text/plain": [
       "0.48251499965426869"
      ]
     },
     "execution_count": 45,
     "metadata": {},
     "output_type": "execute_result"
    }
   ],
   "source": [
    "# Accuracy for each label (27 for provider primary impression)\n",
    "accs = 0.0\n",
    "for label_idx, label in enumerate(prov_primary_impress_labels):\n",
    "    idxs = np.where(yep.flatten() == label_idx)[0]\n",
    "    val = sum(yep.flatten()[idxs] == pre[idxs])/float(len(idxs))\n",
    "    accs += val\n",
    "accs /= len(prov_primary_impress_labels)\n",
    "accs"
   ]
  },
  {
   "cell_type": "code",
   "execution_count": 49,
   "metadata": {
    "collapsed": false
   },
   "outputs": [],
   "source": [
    "#Visualizing a tree\n",
    "#dot_data = StringIO()  \n",
    "#tree.export_graphviz(clf, out_file=dot_data)  \n",
    "#graph = pydot.graph_from_dot_data(dot_data.getvalue())\n",
    "#Image(graph.create_png())"
   ]
  },
  {
   "cell_type": "code",
   "execution_count": 51,
   "metadata": {
    "collapsed": false
   },
   "outputs": [
    {
     "name": "stderr",
     "output_type": "stream",
     "text": [
      "/usr/local/lib/python2.7/dist-packages/ipykernel/__main__.py:3: DataConversionWarning: A column-vector y was passed when a 1d array was expected. Please change the shape of y to (n_samples,), for example using ravel().\n",
      "  app.launch_new_instance()\n"
     ]
    },
    {
     "data": {
      "text/plain": [
       "0.69740577260719028"
      ]
     },
     "execution_count": 51,
     "metadata": {},
     "output_type": "execute_result"
    }
   ],
   "source": [
    "# Random Forest (total accuracy printed)\n",
    "clf=RandomForestClassifier(n_estimators=5, max_depth=30,min_samples_split=1)\n",
    "clf = clf.fit(train, trainlabels)\n",
    "pre=clf.predict(test)\n",
    "yep=testlabels.as_matrix()\n",
    "acc=sum(pre==yep.flatten())/float(pre.shape[0])\n",
    "acc"
   ]
  },
  {
   "cell_type": "code",
   "execution_count": 52,
   "metadata": {
    "collapsed": false
   },
   "outputs": [
    {
     "name": "stdout",
     "output_type": "stream",
     "text": [
      "0.751620836128\n",
      "0.864229765013\n",
      "0.908017089721\n",
      "0.642191659272\n",
      "0.756947953512\n",
      "0.716596528143\n",
      "0.240759240759\n",
      "0.498575498575\n",
      "0.68992248062\n",
      "0.266514806378\n",
      "0.505237952709\n",
      "0.509321401939\n",
      "0.424910607867\n",
      "0.786545924968\n",
      "0.463545150502\n",
      "0.181818181818\n",
      "0.229249011858\n",
      "0.338624338624\n",
      "0.650793650794\n",
      "0.010752688172\n",
      "0.612033195021\n",
      "0.0\n",
      "0.0\n",
      "0.030303030303\n",
      "0.025641025641\n",
      "0.411042944785\n",
      "0.383333333333\n",
      "0.230769230769\n"
     ]
    },
    {
     "data": {
      "text/plain": [
       "0.43318919740087075"
      ]
     },
     "execution_count": 52,
     "metadata": {},
     "output_type": "execute_result"
    }
   ],
   "source": [
    "# Accuracy for each label printed... accuracy over all labels printed at bottom\n",
    "accs = 0.0\n",
    "for label_idx, label in enumerate(prov_primary_impress_labels):\n",
    "    idxs = np.where(yep.flatten() == label_idx)[0]\n",
    "    val = sum(yep.flatten()[idxs] == pre[idxs])/float(len(idxs))\n",
    "    print val\n",
    "    accs += val\n",
    "accs /= len(prov_primary_impress_labels)\n",
    "accs"
   ]
  },
  {
   "cell_type": "code",
   "execution_count": 55,
   "metadata": {
    "collapsed": false
   },
   "outputs": [],
   "source": [
    "#accs = 0.0\n",
    "#for label_idx, label in enumerate(prov_primary_impress_labels):\n",
    "#    print len(np.where(yep.flatten() == label_idx)[0])/float(len(yep.flatten()))\n",
    "#accs /= len(prov_primary_impress_labels)\n",
    "#accs"
   ]
  },
  {
   "cell_type": "code",
   "execution_count": 56,
   "metadata": {
    "collapsed": false,
    "scrolled": false
   },
   "outputs": [
    {
     "name": "stdout",
     "output_type": "stream",
     "text": [
      "Feature ranking:\n",
      "1. feature 31 (0.082747)\n",
      "2. feature 72 (0.074875)\n",
      "3. feature 77 (0.048189)\n",
      "4. feature 41 (0.045217)\n",
      "5. feature 86 (0.042219)\n",
      "6. feature 73 (0.041790)\n",
      "7. feature 102 (0.039380)\n",
      "8. feature 88 (0.035045)\n",
      "9. feature 32 (0.025319)\n",
      "10. feature 63 (0.025175)\n"
     ]
    },
    {
     "name": "stderr",
     "output_type": "stream",
     "text": [
      "/usr/local/lib/python2.7/dist-packages/ipykernel/__main__.py:4: DataConversionWarning: A column-vector y was passed when a 1d array was expected. Please change the shape of y to (n_samples,), for example using ravel().\n"
     ]
    },
    {
     "data": {
      "image/png": "[encoded data removed]",
      "text/plain": [
       "<matplotlib.figure.Figure at 0x5a21a10>"
      ]
     },
     "metadata": {},
     "output_type": "display_data"
    }
   ],
   "source": [
    "# Feature Importance Code\n",
    "forest = ExtraTreesClassifier(n_estimators=10,random_state=0)\n",
    "\n",
    "forest.fit(train, trainlabels)\n",
    "importances = forest.feature_importances_\n",
    "std = np.std([tree.feature_importances_ for tree in forest.estimators_],\n",
    "             axis=0)\n",
    "indices = np.argsort(importances)[::-1]\n",
    "\n",
    "# Print the feature ranking\n",
    "print(\"Feature ranking:\")\n",
    "\n",
    "for f in range(10):\n",
    "    print(\"%d. feature %d (%f)\" % (f + 1, indices[f], importances[indices[f]]))\n",
    "\n",
    "# Plot the feature importances of the forest\n",
    "plt.figure()\n",
    "plt.title(\"Feature importances\")\n",
    "plt.bar(range(train.shape[1]), importances[indices],\n",
    "       color=\"r\", yerr=std[indices], align=\"center\")\n",
    "plt.xticks(range(train.shape[1]), indices)\n",
    "plt.xlim([-1, train.shape[1]])\n",
    "plt.show()\n"
   ]
  },
  {
   "cell_type": "code",
   "execution_count": 59,
   "metadata": {
    "collapsed": false
   },
   "outputs": [],
   "source": [
    "# How to find feature 19\n",
    "#pd.get_dummies(injury_labels).columns[19]"
   ]
  },
  {
   "cell_type": "code",
   "execution_count": null,
   "metadata": {
    "collapsed": false
   },
   "outputs": [],
   "source": []
  },
  {
   "cell_type": "code",
   "execution_count": null,
   "metadata": {
    "collapsed": false
   },
   "outputs": [],
   "source": []
  }
 ],
 "metadata": {
  "kernelspec": {
   "display_name": "Python 2",
   "language": "python",
   "name": "python2"
  },
  "language_info": {
   "codemirror_mode": {
    "name": "ipython",
    "version": 2
   },
   "file_extension": ".py",
   "mimetype": "text/x-python",
   "name": "python",
   "nbconvert_exporter": "python",
   "pygments_lexer": "ipython2",
   "version": "2.7.3"
  }
 },
 "nbformat": 4,
 "nbformat_minor": 0
}
